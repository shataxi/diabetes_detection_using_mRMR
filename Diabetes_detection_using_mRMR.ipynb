{
 "cells": [
  {
   "cell_type": "code",
   "execution_count": 1,
   "id": "bba4da64",
   "metadata": {},
   "outputs": [
    {
     "name": "stdout",
     "output_type": "stream",
     "text": [
      "<class 'pandas.core.frame.DataFrame'>\n",
      "RangeIndex: 768 entries, 0 to 767\n",
      "Data columns (total 9 columns):\n",
      " #   Column                    Non-Null Count  Dtype  \n",
      "---  ------                    --------------  -----  \n",
      " 0   Pregnancies               768 non-null    int64  \n",
      " 1   Glucose                   768 non-null    int64  \n",
      " 2   BloodPressure             768 non-null    int64  \n",
      " 3   SkinThickness             768 non-null    int64  \n",
      " 4   Insulin                   768 non-null    int64  \n",
      " 5   BMI                       768 non-null    float64\n",
      " 6   DiabetesPedigreeFunction  768 non-null    float64\n",
      " 7   Age                       768 non-null    int64  \n",
      " 8   Outcome                   768 non-null    int64  \n",
      "dtypes: float64(2), int64(7)\n",
      "memory usage: 54.1 KB\n"
     ]
    }
   ],
   "source": [
    "import numpy as np\n",
    "import pandas as pd\n",
    "import matplotlib.pyplot as plt\n",
    "dataset=pd.read_csv('./diabetes.csv')\n",
    "dataset.info()"
   ]
  },
  {
   "cell_type": "code",
   "execution_count": 2,
   "id": "849307b4",
   "metadata": {},
   "outputs": [],
   "source": [
    "x=dataset.drop('Outcome',axis=1)\n",
    "y=dataset['Outcome']"
   ]
  },
  {
   "cell_type": "code",
   "execution_count": 3,
   "id": "4ab4f263",
   "metadata": {},
   "outputs": [],
   "source": [
    "# from sklearn.impute import KNNImputer\n",
    "# imputer=KNNImputer(missing_values=0,n_neighbors=9)\n",
    "\n",
    "# print(x.iloc[:,1:8])\n",
    "# imputer.fit(x.iloc[:,1:8])\n",
    "# x.iloc[:,1:8]=imputer.transform(x.iloc[:,1:8])\n",
    "# print(x.iloc[:,1:8].values)"
   ]
  },
  {
   "cell_type": "code",
   "execution_count": 3,
   "id": "a679b464",
   "metadata": {},
   "outputs": [
    {
     "name": "stdout",
     "output_type": "stream",
     "text": [
      "Pregnancies 111\n",
      "Glucose 5\n",
      "BloodPressure 35\n",
      "SkinThickness 227\n",
      "Insulin 374\n",
      "BMI 11\n",
      "DiabetesPedigreeFunction 0\n",
      "Age 0\n"
     ]
    }
   ],
   "source": [
    "for i in x.columns:\n",
    "    sum=0\n",
    "    for d in x[i]:\n",
    "        if d==0:\n",
    "            sum+=1\n",
    "    print(i,sum)"
   ]
  },
  {
   "cell_type": "code",
   "execution_count": 4,
   "id": "a5ae037e",
   "metadata": {},
   "outputs": [
    {
     "name": "stdout",
     "output_type": "stream",
     "text": [
      "Pregnancies 56\n",
      "Glucose 0\n",
      "BloodPressure 0\n",
      "SkinThickness 0\n",
      "Insulin 0\n",
      "BMI 0\n",
      "DiabetesPedigreeFunction 0\n",
      "Age 0\n"
     ]
    }
   ],
   "source": [
    "df=dataset.copy()\n",
    "for i in ['Glucose','BloodPressure','SkinThickness','Insulin','BMI']:\n",
    "    df=df[df[i]!=0]\n",
    "\n",
    "for i in x.columns:\n",
    "    sum=0\n",
    "    for d in df[i]:\n",
    "        if d==0:\n",
    "            sum+=1\n",
    "    print(i,sum)\n"
   ]
  },
  {
   "cell_type": "code",
   "execution_count": 5,
   "id": "0a5de2a4",
   "metadata": {
    "scrolled": true
   },
   "outputs": [
    {
     "name": "stdout",
     "output_type": "stream",
     "text": [
      "score in 0 iteration Pregnancies                 2.748115e+06\n",
      "Glucose                     1.412985e+07\n",
      "BloodPressure               1.503615e+06\n",
      "SkinThickness               2.733684e+06\n",
      "Insulin                     3.897663e+06\n",
      "BMI                         3.069562e+06\n",
      "DiabetesPedigreeFunction    1.787250e+06\n",
      "Age                         5.472994e+06\n",
      "dtype: float64\n",
      "['Glucose']\n",
      "['Pregnancies', 'BloodPressure', 'SkinThickness', 'Insulin', 'BMI', 'DiabetesPedigreeFunction', 'Age']\n",
      "Glucose\n",
      "score in 1 iteration Pregnancies                 138.589980\n",
      "BloodPressure                71.591667\n",
      "SkinThickness               137.470660\n",
      "Insulin                      67.059689\n",
      "BMI                         146.507321\n",
      "DiabetesPedigreeFunction    127.496637\n",
      "Age                         159.264633\n",
      "dtype: float64\n",
      "['Glucose', 'Age']\n",
      "['Pregnancies', 'BloodPressure', 'SkinThickness', 'Insulin', 'BMI', 'DiabetesPedigreeFunction']\n",
      "Age\n",
      "score in 2 iteration Pregnancies                  62.606600\n",
      "BloodPressure                58.957730\n",
      "SkinThickness               149.130256\n",
      "Insulin                      97.648478\n",
      "BMI                         219.780526\n",
      "DiabetesPedigreeFunction    158.719047\n",
      "dtype: float64\n",
      "['Glucose', 'Age', 'BMI']\n",
      "['Pregnancies', 'BloodPressure', 'SkinThickness', 'Insulin', 'DiabetesPedigreeFunction']\n"
     ]
    }
   ],
   "source": [
    "x=df.copy().drop('Outcome',axis=1)\n",
    "y=df['Outcome']\n",
    "\n",
    "from sklearn.feature_selection import f_classif\n",
    "\n",
    "# compute F-statistics and initialize correlation matrix\n",
    "F = pd.Series(f_classif(x, y)[0], index = x.columns)\n",
    "corr = pd.DataFrame(.00001, index = x.columns, columns = x.columns)\n",
    "\n",
    "# initialize list of selected features and list of excluded features\n",
    "selected = []\n",
    "not_selected = x.columns.to_list()\n",
    "\n",
    "K=3\n",
    "# repeat K times\n",
    "for i in range(K):\n",
    "  \n",
    "    # compute (absolute) correlations between the last selected feature and all the (currently) excluded features\n",
    "    if i > 0:\n",
    "        last_selected = selected[-1]\n",
    "        print(last_selected)\n",
    "        corr.loc[not_selected, last_selected] = x[not_selected].corrwith(x[last_selected]).abs().clip(.00001)\n",
    "        \n",
    "    # compute FCQ score for all the (currently) excluded features (this is Formula 2)\n",
    "    score = F.loc[not_selected] / corr.loc[not_selected, selected].mean(axis = 1).fillna(.00001)\n",
    "    print(\"score in {} iteration\".format(i),score)\n",
    "    # find best feature, add it to selected and remove it from not_selected\n",
    "    best = score.index[score.argmax()]\n",
    "    selected.append(best)\n",
    "    print(selected)\n",
    "    not_selected.remove(best)\n",
    "    print(not_selected)\n",
    "\n"
   ]
  },
  {
   "cell_type": "code",
   "execution_count": 6,
   "id": "60c80656",
   "metadata": {},
   "outputs": [
    {
     "name": "stdout",
     "output_type": "stream",
     "text": [
      "['Glucose', 'Age', 'BMI']\n",
      "['Pregnancies', 'BloodPressure', 'SkinThickness', 'Insulin', 'DiabetesPedigreeFunction']\n"
     ]
    }
   ],
   "source": [
    "print(selected)\n",
    "print(not_selected)"
   ]
  },
  {
   "cell_type": "code",
   "execution_count": 7,
   "id": "63a658d2",
   "metadata": {},
   "outputs": [],
   "source": [
    "x_set=np.concatenate((df['Glucose'].to_numpy().reshape(len(df['Glucose']),1),\n",
    "                      df['Insulin'].to_numpy().reshape(len(df['Glucose']),1),\n",
    "                      df['Age'].to_numpy().reshape(len(df['Glucose']),1)),axis=1)\n",
    "y_set=y"
   ]
  },
  {
   "cell_type": "code",
   "execution_count": 8,
   "id": "ef354f5a",
   "metadata": {},
   "outputs": [],
   "source": [
    "from sklearn.model_selection import train_test_split\n",
    "X_train1,X_test1,y_train1,y_test1=train_test_split(x_set,y_set,random_state=44,stratify=y_set)"
   ]
  },
  {
   "cell_type": "code",
   "execution_count": 9,
   "id": "c71871c7",
   "metadata": {},
   "outputs": [],
   "source": [
    "from sklearn.preprocessing import StandardScaler\n",
    "sc=StandardScaler()\n",
    "X_train1=sc.fit_transform(X_train1)\n",
    "X_test1=sc.fit_transform(X_test1)"
   ]
  },
  {
   "cell_type": "code",
   "execution_count": 10,
   "id": "5668f0b9",
   "metadata": {},
   "outputs": [
    {
     "name": "stdout",
     "output_type": "stream",
     "text": [
      "Score of SVM with linear kernel\n",
      "[[56 10]\n",
      " [16 16]]\n",
      "0.7346938775510204\n",
      "OUTCOME DIABETIC\n",
      "\n",
      "Mis-classification(1-accuracy) 0.2653061224489796\n",
      "sensitivity 0.5\n",
      "Specificity(TNR): 0.8484848484848485\n",
      "precision 0.6153846153846154\n",
      "f1 score 0.5517241379310345\n",
      "OUTCOME NON DIABETIC\n",
      "Mis-classification(1-accuracy) 0.2653061224489796\n",
      "sensitivity 0.8484848484848485\n",
      "Specificity(TNR): 0.5\n",
      "precision 0.7777777777777778\n",
      "f1 score 0.8115942028985507\n",
      "Score of SVM with rbf kernel\n",
      "[[58  8]\n",
      " [16 16]]\n",
      "0.7551020408163265\n",
      "OUTCOME DIABETIC\n",
      "\n",
      "Mis-classification(1-accuracy) 0.2653061224489796\n",
      "sensitivity 0.5\n",
      "Specificity(TNR): 0.8484848484848485\n",
      "precision 0.6153846153846154\n",
      "f1 score 0.5517241379310345\n",
      "OUTCOME NON DIABETIC\n",
      "Mis-classification(1-accuracy) 0.2653061224489796\n",
      "sensitivity 0.8484848484848485\n",
      "Specificity(TNR): 0.5\n",
      "precision 0.7777777777777778\n",
      "f1 score 0.8115942028985507\n"
     ]
    }
   ],
   "source": [
    "from sklearn.svm import SVC\n",
    "from sklearn.metrics import confusion_matrix,accuracy_score,classification_report,roc_curve,roc_auc_score\n",
    "classifier=SVC(kernel=\"linear\",C=1)\n",
    "classifier.fit(X_train1,y_train1)\n",
    "print(\"Score of SVM with linear kernel\")\n",
    "lsvmy_pred=classifier.predict(X_test1)\n",
    "cm=confusion_matrix(y_test1,lsvmy_pred)\n",
    "print(cm)\n",
    "print(accuracy_score(y_test1,lsvmy_pred))\n",
    "\n",
    "print(\"OUTCOME DIABETIC\\n\")\n",
    "print(\"Mis-classification(1-accuracy)\",(cm[0][1]+cm[1][0])/(cm[0][0]+cm[0][1]+cm[1][0]+cm[1][1]))\n",
    "Sensitivity=cm[1][1]/(cm[1][1]+cm[1][0])\n",
    "print(\"sensitivity\",Sensitivity)\n",
    "print(\"Specificity(TNR):\",cm[0][0]/(cm[0][0]+cm[0][1]))\n",
    "Precision=cm[1][1]/(cm[1][1]+cm[0][1])\n",
    "print(\"precision\",Precision)\n",
    "print(\"f1 score\",2*Precision*Sensitivity/(Precision+Sensitivity))\n",
    "\n",
    "print(\"OUTCOME NON DIABETIC\")\n",
    "print(\"Mis-classification(1-accuracy)\",(cm[0][1]+cm[1][0])/(cm[0][0]+cm[0][1]+cm[1][0]+cm[1][1]))\n",
    "Sensitivity=cm[0][0]/(cm[0][0]+cm[0][1])\n",
    "print(\"sensitivity\",Sensitivity)\n",
    "print(\"Specificity(TNR):\",cm[1][1]/(cm[1][1]+cm[1][0]))\n",
    "Precision=cm[0][0]/(cm[0][0]+cm[1][0])\n",
    "print(\"precision\",Precision)\n",
    "print(\"f1 score\",2*Precision*Sensitivity/(Precision+Sensitivity))\n",
    "\n",
    "\n",
    "\n",
    "\n",
    "\n",
    "\n",
    "\n",
    "classifierrbf=SVC(kernel=\"rbf\",C=0.1).fit(X_train1,y_train1)\n",
    "print(\"Score of SVM with rbf kernel\")\n",
    "rbfsvmy_pred=classifierrbf.predict(X_test1)\n",
    "print(confusion_matrix(y_test1,rbfsvmy_pred))\n",
    "print(accuracy_score(y_test1,rbfsvmy_pred))\n",
    "\n",
    "print(\"OUTCOME DIABETIC\\n\")\n",
    "print(\"Mis-classification(1-accuracy)\",(cm[0][1]+cm[1][0])/(cm[0][0]+cm[0][1]+cm[1][0]+cm[1][1]))\n",
    "Sensitivity=cm[1][1]/(cm[1][1]+cm[1][0])\n",
    "print(\"sensitivity\",Sensitivity)\n",
    "print(\"Specificity(TNR):\",cm[0][0]/(cm[0][0]+cm[0][1]))\n",
    "Precision=cm[1][1]/(cm[1][1]+cm[0][1])\n",
    "print(\"precision\",Precision)\n",
    "print(\"f1 score\",2*Precision*Sensitivity/(Precision+Sensitivity))\n",
    "\n",
    "print(\"OUTCOME NON DIABETIC\")\n",
    "print(\"Mis-classification(1-accuracy)\",(cm[0][1]+cm[1][0])/(cm[0][0]+cm[0][1]+cm[1][0]+cm[1][1]))\n",
    "Sensitivity=cm[0][0]/(cm[0][0]+cm[0][1])\n",
    "print(\"sensitivity\",Sensitivity)\n",
    "print(\"Specificity(TNR):\",cm[1][1]/(cm[1][1]+cm[1][0]))\n",
    "Precision=cm[0][0]/(cm[0][0]+cm[1][0])\n",
    "print(\"precision\",Precision)\n",
    "print(\"f1 score\",2*Precision*Sensitivity/(Precision+Sensitivity))\n",
    "\n",
    "\n"
   ]
  },
  {
   "cell_type": "code",
   "execution_count": 11,
   "id": "f95bc727",
   "metadata": {},
   "outputs": [
    {
     "name": "stdout",
     "output_type": "stream",
     "text": [
      "Accuracy in K-fold Cross Validation(K=10) of SVM classifier with linear kernal: 80.37 % standard deviation :6.45%\n",
      "Accuracy in K-fold Cross Validation(K=10) of SVM classifier with radial basis kernal: 78.99 % standard deviation :6.52%\n"
     ]
    }
   ],
   "source": [
    "from sklearn.model_selection import cross_val_score\n",
    "accuracies=cross_val_score(estimator=classifier,X=X_train1,y=y_train1,cv=10)\n",
    "print(\"Accuracy in K-fold Cross Validation(K=10) of SVM classifier with linear kernal: {:.2f} %\".format(accuracies.mean()*100),\n",
    "                         \"standard deviation :{:.2f}%\".format(accuracies.std()*100))\n",
    "accuracies=cross_val_score(estimator=classifierrbf,X=X_train1,y=y_train1,cv=10)\n",
    "print(\"Accuracy in K-fold Cross Validation(K=10) of SVM classifier with radial basis kernal: {:.2f} %\".format(accuracies.mean()*100),\n",
    "                         \"standard deviation :{:.2f}%\".format(accuracies.std()*100))\n"
   ]
  },
  {
   "cell_type": "code",
   "execution_count": 12,
   "id": "4715ef1c",
   "metadata": {},
   "outputs": [
    {
     "name": "stdout",
     "output_type": "stream",
     "text": [
      "[[57  9]\n",
      " [14 18]]\n",
      "0.7653061224489796\n",
      "OUTCOME DIABETIC\n",
      "\n",
      "Mis-classification(1-accuracy) 0.23469387755102042\n",
      "sensitivity 0.5625\n",
      "Specificity(TNR): 0.8636363636363636\n",
      "precision 0.6666666666666666\n",
      "f1 score 0.6101694915254238\n",
      "OUTCOME NON DIABETIC\n",
      "Mis-classification(1-accuracy) 0.23469387755102042\n",
      "sensitivity 0.8636363636363636\n",
      "Specificity(TNR): 0.5625\n",
      "precision 0.8028169014084507\n",
      "f1 score 0.832116788321168\n"
     ]
    }
   ],
   "source": [
    "from sklearn.neighbors import KNeighborsClassifier\n",
    "\n",
    "knnclassifier=KNeighborsClassifier(n_neighbors=13)\n",
    "knnclassifier.fit(X_train1,y_train1)\n",
    "knny_pred=knnclassifier.predict(X_test1)\n",
    "cm=confusion_matrix(y_test1,knny_pred)\n",
    "print(cm)\n",
    "print(accuracy_score(y_test1,knny_pred))\n",
    "\n",
    "print(\"OUTCOME DIABETIC\\n\")\n",
    "print(\"Mis-classification(1-accuracy)\",(cm[0][1]+cm[1][0])/(cm[0][0]+cm[0][1]+cm[1][0]+cm[1][1]))\n",
    "Sensitivity=cm[1][1]/(cm[1][1]+cm[1][0])\n",
    "print(\"sensitivity\",Sensitivity)\n",
    "print(\"Specificity(TNR):\",cm[0][0]/(cm[0][0]+cm[0][1]))\n",
    "Precision=cm[1][1]/(cm[1][1]+cm[0][1])\n",
    "print(\"precision\",Precision)\n",
    "print(\"f1 score\",2*Precision*Sensitivity/(Precision+Sensitivity))\n",
    "\n",
    "print(\"OUTCOME NON DIABETIC\")\n",
    "print(\"Mis-classification(1-accuracy)\",(cm[0][1]+cm[1][0])/(cm[0][0]+cm[0][1]+cm[1][0]+cm[1][1]))\n",
    "Sensitivity=cm[0][0]/(cm[0][0]+cm[0][1])\n",
    "print(\"sensitivity\",Sensitivity)\n",
    "print(\"Specificity(TNR):\",cm[1][1]/(cm[1][1]+cm[1][0]))\n",
    "Precision=cm[0][0]/(cm[0][0]+cm[1][0])\n",
    "print(\"precision\",Precision)\n",
    "print(\"f1 score\",2*Precision*Sensitivity/(Precision+Sensitivity))\n"
   ]
  },
  {
   "cell_type": "code",
   "execution_count": 13,
   "id": "c06a623e",
   "metadata": {},
   "outputs": [
    {
     "name": "stdout",
     "output_type": "stream",
     "text": [
      "Accuracy in K-fold Cross Validation(K=10) of KNN classifier with: 78.31 % standard deviation :5.80%\n"
     ]
    }
   ],
   "source": [
    "accuracies=cross_val_score(estimator=knnclassifier,X=X_train1,y=y_train1,cv=10)\n",
    "print(\"Accuracy in K-fold Cross Validation(K=10) of KNN classifier with: {:.2f} %\".format(accuracies.mean()*100),\n",
    "                         \"standard deviation :{:.2f}%\".format(accuracies.std()*100))\n"
   ]
  },
  {
   "cell_type": "code",
   "execution_count": 14,
   "id": "e08422b7",
   "metadata": {},
   "outputs": [
    {
     "name": "stdout",
     "output_type": "stream",
     "text": [
      "[[54 12]\n",
      " [16 16]]\n",
      "0.7142857142857143\n",
      "OUTCOME DIABETIC\n",
      "\n",
      "Mis-classification(1-accuracy) 0.2857142857142857\n",
      "sensitivity 0.5\n",
      "Specificity(TNR): 0.8181818181818182\n",
      "precision 0.5714285714285714\n",
      "f1 score 0.5333333333333333\n",
      "OUTCOME NON DIABETIC\n",
      "Mis-classification(1-accuracy) 0.2857142857142857\n",
      "sensitivity 0.8181818181818182\n",
      "Specificity(TNR): 0.5\n",
      "precision 0.7714285714285715\n",
      "f1 score 0.7941176470588236\n"
     ]
    }
   ],
   "source": [
    "from sklearn.tree import DecisionTreeClassifier\n",
    "dtclassifier=DecisionTreeClassifier(criterion='entropy',splitter='best',random_state=66)\n",
    "dtclassifier.fit(X_train1,y_train1)\n",
    "dty_pred=dtclassifier.predict(X_test1)\n",
    "cm=confusion_matrix(y_test1,dty_pred)\n",
    "print(cm)\n",
    "print(accuracy_score(y_test1,dty_pred))\n",
    "print(\"OUTCOME DIABETIC\\n\")\n",
    "print(\"Mis-classification(1-accuracy)\",(cm[0][1]+cm[1][0])/(cm[0][0]+cm[0][1]+cm[1][0]+cm[1][1]))\n",
    "Sensitivity=cm[1][1]/(cm[1][1]+cm[1][0])\n",
    "print(\"sensitivity\",Sensitivity)\n",
    "print(\"Specificity(TNR):\",cm[0][0]/(cm[0][0]+cm[0][1]))\n",
    "Precision=cm[1][1]/(cm[1][1]+cm[0][1])\n",
    "print(\"precision\",Precision)\n",
    "print(\"f1 score\",2*Precision*Sensitivity/(Precision+Sensitivity))\n",
    "\n",
    "print(\"OUTCOME NON DIABETIC\")\n",
    "print(\"Mis-classification(1-accuracy)\",(cm[0][1]+cm[1][0])/(cm[0][0]+cm[0][1]+cm[1][0]+cm[1][1]))\n",
    "Sensitivity=cm[0][0]/(cm[0][0]+cm[0][1])\n",
    "print(\"sensitivity\",Sensitivity)\n",
    "print(\"Specificity(TNR):\",cm[1][1]/(cm[1][1]+cm[1][0]))\n",
    "Precision=cm[0][0]/(cm[0][0]+cm[1][0])\n",
    "print(\"precision\",Precision)\n",
    "print(\"f1 score\",2*Precision*Sensitivity/(Precision+Sensitivity))\n"
   ]
  },
  {
   "cell_type": "code",
   "execution_count": 15,
   "id": "3329e083",
   "metadata": {},
   "outputs": [
    {
     "name": "stdout",
     "output_type": "stream",
     "text": [
      "Accuracy in K-fold Cross Validation(K=10) of Decision Tree classifier: 75.93 % standard deviation :6.56%\n"
     ]
    }
   ],
   "source": [
    "accuracies=cross_val_score(estimator=dtclassifier,X=X_train1,y=y_train1,cv=10)\n",
    "print(\"Accuracy in K-fold Cross Validation(K=10) of Decision Tree classifier: {:.2f} %\".format(accuracies.mean()*100),\n",
    "                         \"standard deviation :{:.2f}%\".format(accuracies.std()*100))\n"
   ]
  },
  {
   "cell_type": "code",
   "execution_count": 16,
   "id": "d04f3cb4",
   "metadata": {},
   "outputs": [
    {
     "name": "stdout",
     "output_type": "stream",
     "text": [
      "[[57  9]\n",
      " [14 18]]\n",
      "0.7653061224489796\n",
      "OUTCOME DIABETIC\n",
      "\n",
      "Mis-classification(1-accuracy) 0.23469387755102042\n",
      "sensitivity 0.5625\n",
      "Specificity(TNR): 0.8636363636363636\n",
      "precision 0.6666666666666666\n",
      "f1 score 0.6101694915254238\n",
      "OUTCOME NON DIABETIC\n",
      "Mis-classification(1-accuracy) 0.23469387755102042\n",
      "sensitivity 0.8636363636363636\n",
      "Specificity(TNR): 0.5625\n",
      "precision 0.8028169014084507\n",
      "f1 score 0.832116788321168\n"
     ]
    }
   ],
   "source": [
    "from sklearn.ensemble import RandomForestClassifier\n",
    "rfclassifier=RandomForestClassifier(n_estimators=25,criterion='entropy',random_state=0)\n",
    "rfclassifier.fit(X_train1,y_train1)\n",
    "rfy_pred=rfclassifier.predict(X_test1)\n",
    "cm=confusion_matrix(y_test1,rfy_pred)\n",
    "print(cm)\n",
    "print(accuracy_score(rfy_pred,y_test1))\n",
    "print(\"OUTCOME DIABETIC\\n\")\n",
    "print(\"Mis-classification(1-accuracy)\",(cm[0][1]+cm[1][0])/(cm[0][0]+cm[0][1]+cm[1][0]+cm[1][1]))\n",
    "Sensitivity=cm[1][1]/(cm[1][1]+cm[1][0])\n",
    "print(\"sensitivity\",Sensitivity)\n",
    "print(\"Specificity(TNR):\",cm[0][0]/(cm[0][0]+cm[0][1]))\n",
    "Precision=cm[1][1]/(cm[1][1]+cm[0][1])\n",
    "print(\"precision\",Precision)\n",
    "print(\"f1 score\",2*Precision*Sensitivity/(Precision+Sensitivity))\n",
    "\n",
    "print(\"OUTCOME NON DIABETIC\")\n",
    "print(\"Mis-classification(1-accuracy)\",(cm[0][1]+cm[1][0])/(cm[0][0]+cm[0][1]+cm[1][0]+cm[1][1]))\n",
    "Sensitivity=cm[0][0]/(cm[0][0]+cm[0][1])\n",
    "print(\"sensitivity\",Sensitivity)\n",
    "print(\"Specificity(TNR):\",cm[1][1]/(cm[1][1]+cm[1][0]))\n",
    "Precision=cm[0][0]/(cm[0][0]+cm[1][0])\n",
    "print(\"precision\",Precision)\n",
    "print(\"f1 score\",2*Precision*Sensitivity/(Precision+Sensitivity))\n"
   ]
  },
  {
   "cell_type": "code",
   "execution_count": 17,
   "id": "45a64369",
   "metadata": {},
   "outputs": [
    {
     "name": "stdout",
     "output_type": "stream",
     "text": [
      "Accuracy in K-fold Cross Validation(K=10) of Random forest: 77.61 % standard deviation :6.46%\n"
     ]
    }
   ],
   "source": [
    "accuracies=cross_val_score(estimator=rfclassifier,X=X_train1,y=y_train1,cv=10)\n",
    "print(\"Accuracy in K-fold Cross Validation(K=10) of Random forest: {:.2f} %\".format(accuracies.mean()*100),\n",
    "                         \"standard deviation :{:.2f}%\".format(accuracies.std()*100))\n"
   ]
  },
  {
   "cell_type": "code",
   "execution_count": 18,
   "id": "1f2412d9",
   "metadata": {},
   "outputs": [],
   "source": [
    "from sklearn.linear_model    import LogisticRegression\n",
    "classifier=LogisticRegression()\n",
    "classifier.fit(X_train1,y_train1)\n",
    "classifier100=LogisticRegression(C=100).fit(X_train1,y_train1)\n",
    "classifier001=LogisticRegression(C=0.001).fit(X_train1,y_train1)"
   ]
  },
  {
   "cell_type": "code",
   "execution_count": 19,
   "id": "6c8aa5dd",
   "metadata": {},
   "outputs": [
    {
     "name": "stdout",
     "output_type": "stream",
     "text": [
      "[[56 10]\n",
      " [16 16]]\n",
      "0.7346938775510204\n",
      "OUTCOME DIABETIC\n",
      "\n",
      "Mis-classification(1-accuracy) 0.2653061224489796\n",
      "sensitivity 0.5\n",
      "Specificity(TNR): 0.8484848484848485\n",
      "precision 0.6153846153846154\n",
      "f1 score 0.5517241379310345\n",
      "OUTCOME NON DIABETIC\n",
      "Mis-classification(1-accuracy) 0.2653061224489796\n",
      "sensitivity 0.8484848484848485\n",
      "Specificity(TNR): 0.5\n",
      "precision 0.7777777777777778\n",
      "f1 score 0.8115942028985507\n"
     ]
    }
   ],
   "source": [
    "lry_pred=classifier.predict(X_test1)\n",
    "y_pred41=classifier100.predict(X_test1)\n",
    "y_pred42=classifier001.predict(X_test1)\n",
    "cm=confusion_matrix(y_test1,lry_pred)\n",
    "print(cm)\n",
    "print(accuracy_score(y_test1,lry_pred))\n",
    "\n",
    "print(\"OUTCOME DIABETIC\\n\")\n",
    "print(\"Mis-classification(1-accuracy)\",(cm[0][1]+cm[1][0])/(cm[0][0]+cm[0][1]+cm[1][0]+cm[1][1]))\n",
    "Sensitivity=cm[1][1]/(cm[1][1]+cm[1][0])\n",
    "print(\"sensitivity\",Sensitivity)\n",
    "print(\"Specificity(TNR):\",cm[0][0]/(cm[0][0]+cm[0][1]))\n",
    "Precision=cm[1][1]/(cm[1][1]+cm[0][1])\n",
    "print(\"precision\",Precision)\n",
    "print(\"f1 score\",2*Precision*Sensitivity/(Precision+Sensitivity))\n",
    "\n",
    "print(\"OUTCOME NON DIABETIC\")\n",
    "print(\"Mis-classification(1-accuracy)\",(cm[0][1]+cm[1][0])/(cm[0][0]+cm[0][1]+cm[1][0]+cm[1][1]))\n",
    "Sensitivity=cm[0][0]/(cm[0][0]+cm[0][1])\n",
    "print(\"sensitivity\",Sensitivity)\n",
    "print(\"Specificity(TNR):\",cm[1][1]/(cm[1][1]+cm[1][0]))\n",
    "Precision=cm[0][0]/(cm[0][0]+cm[1][0])\n",
    "print(\"precision\",Precision)\n",
    "print(\"f1 score\",2*Precision*Sensitivity/(Precision+Sensitivity))\n"
   ]
  },
  {
   "cell_type": "code",
   "execution_count": 20,
   "id": "866da2bc",
   "metadata": {},
   "outputs": [
    {
     "name": "stdout",
     "output_type": "stream",
     "text": [
      "Accuracy in K-fold Cross Validation(K=10) of Logistic Regression : 82.08 % standard deviation :7.63%\n",
      "Accuracy in K-fold Cross Validation(K=10) of Logistic Regression with c=100: 82.08 % standard deviation :7.63%\n",
      "Accuracy in K-fold Cross Validation(K=10) of Logistic Regression with c=0.001: 66.67 % standard deviation :1.26%\n"
     ]
    }
   ],
   "source": [
    "accuracies=cross_val_score(estimator=classifier,X=X_train1,y=y_train1,cv=10)\n",
    "print(\"Accuracy in K-fold Cross Validation(K=10) of Logistic Regression : {:.2f} %\".format(accuracies.mean()*100),\n",
    "                         \"standard deviation :{:.2f}%\".format(accuracies.std()*100))\n",
    "accuracies=cross_val_score(estimator=classifier100,X=X_train1,y=y_train1,cv=10)\n",
    "print(\"Accuracy in K-fold Cross Validation(K=10) of Logistic Regression with c=100: {:.2f} %\".format(accuracies.mean()*100),\n",
    "                         \"standard deviation :{:.2f}%\".format(accuracies.std()*100))\n",
    "accuracies=cross_val_score(estimator=classifier001,X=X_train1,y=y_train1,cv=10)\n",
    "print(\"Accuracy in K-fold Cross Validation(K=10) of Logistic Regression with c=0.001: {:.2f} %\".format(accuracies.mean()*100),\n",
    "                         \"standard deviation :{:.2f}%\".format(accuracies.std()*100))\n"
   ]
  },
  {
   "cell_type": "code",
   "execution_count": 21,
   "id": "a077cd4f",
   "metadata": {},
   "outputs": [
    {
     "name": "stdout",
     "output_type": "stream",
     "text": [
      "[21:52:33] WARNING: ..\\src\\learner.cc:1115: Starting in XGBoost 1.3.0, the default evaluation metric used with the objective 'binary:logistic' was changed from 'error' to 'logloss'. Explicitly set eval_metric if you'd like to restore the old behavior.\n",
      "[[57  9]\n",
      " [16 16]]\n",
      "XGBoost Accuracy 0.7448979591836735\n",
      "OUTCOME DIABETIC\n",
      "\n",
      "Mis-classification(1-accuracy) 0.25510204081632654\n",
      "sensitivity 0.5\n",
      "Specificity(TNR): 0.8636363636363636\n",
      "precision 0.64\n",
      "f1 score 0.5614035087719298\n",
      "OUTCOME NON DIABETIC\n",
      "Mis-classification(1-accuracy) 0.25510204081632654\n",
      "sensitivity 0.8636363636363636\n",
      "Specificity(TNR): 0.5\n",
      "precision 0.7808219178082192\n",
      "f1 score 0.8201438848920863\n"
     ]
    },
    {
     "name": "stderr",
     "output_type": "stream",
     "text": [
      "C:\\Users\\Hp\\anaconda3\\envs\\tf\\lib\\site-packages\\xgboost\\sklearn.py:1224: UserWarning: The use of label encoder in XGBClassifier is deprecated and will be removed in a future release. To remove this warning, do the following: 1) Pass option use_label_encoder=False when constructing XGBClassifier object; and 2) Encode your labels (y) as integers starting with 0, i.e. 0, 1, 2, ..., [num_class - 1].\n",
      "  warnings.warn(label_encoder_deprecation_msg, UserWarning)\n"
     ]
    }
   ],
   "source": [
    "from xgboost import XGBClassifier\n",
    "xgbclassifier=XGBClassifier()\n",
    "\n",
    "xgbclassifier.fit(X_train1,y_train1)\n",
    "xgby_pred=xgbclassifier.predict(X_test1)\n",
    "cm=confusion_matrix(y_test1,xgby_pred)\n",
    "print(cm)\n",
    "acc_dt=accuracy_score(y_test1,xgby_pred)\n",
    "print(\"XGBoost Accuracy\",acc_dt)\n",
    "print(\"OUTCOME DIABETIC\\n\")\n",
    "print(\"Mis-classification(1-accuracy)\",(cm[0][1]+cm[1][0])/(cm[0][0]+cm[0][1]+cm[1][0]+cm[1][1]))\n",
    "Sensitivity=cm[1][1]/(cm[1][1]+cm[1][0])\n",
    "print(\"sensitivity\",Sensitivity)\n",
    "print(\"Specificity(TNR):\",cm[0][0]/(cm[0][0]+cm[0][1]))\n",
    "Precision=cm[1][1]/(cm[1][1]+cm[0][1])\n",
    "print(\"precision\",Precision)\n",
    "print(\"f1 score\",2*Precision*Sensitivity/(Precision+Sensitivity))\n",
    "\n",
    "print(\"OUTCOME NON DIABETIC\")\n",
    "print(\"Mis-classification(1-accuracy)\",(cm[0][1]+cm[1][0])/(cm[0][0]+cm[0][1]+cm[1][0]+cm[1][1]))\n",
    "Sensitivity=cm[0][0]/(cm[0][0]+cm[0][1])\n",
    "print(\"sensitivity\",Sensitivity)\n",
    "print(\"Specificity(TNR):\",cm[1][1]/(cm[1][1]+cm[1][0]))\n",
    "Precision=cm[0][0]/(cm[0][0]+cm[1][0])\n",
    "print(\"precision\",Precision)\n",
    "print(\"f1 score\",2*Precision*Sensitivity/(Precision+Sensitivity))\n"
   ]
  },
  {
   "cell_type": "code",
   "execution_count": 22,
   "id": "448b24ce",
   "metadata": {},
   "outputs": [
    {
     "name": "stderr",
     "output_type": "stream",
     "text": [
      "C:\\Users\\Hp\\anaconda3\\envs\\tf\\lib\\site-packages\\xgboost\\sklearn.py:1224: UserWarning: The use of label encoder in XGBClassifier is deprecated and will be removed in a future release. To remove this warning, do the following: 1) Pass option use_label_encoder=False when constructing XGBClassifier object; and 2) Encode your labels (y) as integers starting with 0, i.e. 0, 1, 2, ..., [num_class - 1].\n",
      "  warnings.warn(label_encoder_deprecation_msg, UserWarning)\n",
      "C:\\Users\\Hp\\anaconda3\\envs\\tf\\lib\\site-packages\\xgboost\\sklearn.py:1224: UserWarning: The use of label encoder in XGBClassifier is deprecated and will be removed in a future release. To remove this warning, do the following: 1) Pass option use_label_encoder=False when constructing XGBClassifier object; and 2) Encode your labels (y) as integers starting with 0, i.e. 0, 1, 2, ..., [num_class - 1].\n",
      "  warnings.warn(label_encoder_deprecation_msg, UserWarning)\n"
     ]
    },
    {
     "name": "stdout",
     "output_type": "stream",
     "text": [
      "[21:52:34] WARNING: ..\\src\\learner.cc:1115: Starting in XGBoost 1.3.0, the default evaluation metric used with the objective 'binary:logistic' was changed from 'error' to 'logloss'. Explicitly set eval_metric if you'd like to restore the old behavior.\n",
      "[21:52:34] WARNING: ..\\src\\learner.cc:1115: Starting in XGBoost 1.3.0, the default evaluation metric used with the objective 'binary:logistic' was changed from 'error' to 'logloss'. Explicitly set eval_metric if you'd like to restore the old behavior.\n"
     ]
    },
    {
     "name": "stderr",
     "output_type": "stream",
     "text": [
      "C:\\Users\\Hp\\anaconda3\\envs\\tf\\lib\\site-packages\\xgboost\\sklearn.py:1224: UserWarning: The use of label encoder in XGBClassifier is deprecated and will be removed in a future release. To remove this warning, do the following: 1) Pass option use_label_encoder=False when constructing XGBClassifier object; and 2) Encode your labels (y) as integers starting with 0, i.e. 0, 1, 2, ..., [num_class - 1].\n",
      "  warnings.warn(label_encoder_deprecation_msg, UserWarning)\n",
      "C:\\Users\\Hp\\anaconda3\\envs\\tf\\lib\\site-packages\\xgboost\\sklearn.py:1224: UserWarning: The use of label encoder in XGBClassifier is deprecated and will be removed in a future release. To remove this warning, do the following: 1) Pass option use_label_encoder=False when constructing XGBClassifier object; and 2) Encode your labels (y) as integers starting with 0, i.e. 0, 1, 2, ..., [num_class - 1].\n",
      "  warnings.warn(label_encoder_deprecation_msg, UserWarning)\n"
     ]
    },
    {
     "name": "stdout",
     "output_type": "stream",
     "text": [
      "[21:52:34] WARNING: ..\\src\\learner.cc:1115: Starting in XGBoost 1.3.0, the default evaluation metric used with the objective 'binary:logistic' was changed from 'error' to 'logloss'. Explicitly set eval_metric if you'd like to restore the old behavior.\n",
      "[21:52:34] WARNING: ..\\src\\learner.cc:1115: Starting in XGBoost 1.3.0, the default evaluation metric used with the objective 'binary:logistic' was changed from 'error' to 'logloss'. Explicitly set eval_metric if you'd like to restore the old behavior.\n"
     ]
    },
    {
     "name": "stderr",
     "output_type": "stream",
     "text": [
      "C:\\Users\\Hp\\anaconda3\\envs\\tf\\lib\\site-packages\\xgboost\\sklearn.py:1224: UserWarning: The use of label encoder in XGBClassifier is deprecated and will be removed in a future release. To remove this warning, do the following: 1) Pass option use_label_encoder=False when constructing XGBClassifier object; and 2) Encode your labels (y) as integers starting with 0, i.e. 0, 1, 2, ..., [num_class - 1].\n",
      "  warnings.warn(label_encoder_deprecation_msg, UserWarning)\n",
      "C:\\Users\\Hp\\anaconda3\\envs\\tf\\lib\\site-packages\\xgboost\\sklearn.py:1224: UserWarning: The use of label encoder in XGBClassifier is deprecated and will be removed in a future release. To remove this warning, do the following: 1) Pass option use_label_encoder=False when constructing XGBClassifier object; and 2) Encode your labels (y) as integers starting with 0, i.e. 0, 1, 2, ..., [num_class - 1].\n",
      "  warnings.warn(label_encoder_deprecation_msg, UserWarning)\n"
     ]
    },
    {
     "name": "stdout",
     "output_type": "stream",
     "text": [
      "[21:52:34] WARNING: ..\\src\\learner.cc:1115: Starting in XGBoost 1.3.0, the default evaluation metric used with the objective 'binary:logistic' was changed from 'error' to 'logloss'. Explicitly set eval_metric if you'd like to restore the old behavior.\n",
      "[21:52:34] WARNING: ..\\src\\learner.cc:1115: Starting in XGBoost 1.3.0, the default evaluation metric used with the objective 'binary:logistic' was changed from 'error' to 'logloss'. Explicitly set eval_metric if you'd like to restore the old behavior.\n"
     ]
    },
    {
     "name": "stderr",
     "output_type": "stream",
     "text": [
      "C:\\Users\\Hp\\anaconda3\\envs\\tf\\lib\\site-packages\\xgboost\\sklearn.py:1224: UserWarning: The use of label encoder in XGBClassifier is deprecated and will be removed in a future release. To remove this warning, do the following: 1) Pass option use_label_encoder=False when constructing XGBClassifier object; and 2) Encode your labels (y) as integers starting with 0, i.e. 0, 1, 2, ..., [num_class - 1].\n",
      "  warnings.warn(label_encoder_deprecation_msg, UserWarning)\n",
      "C:\\Users\\Hp\\anaconda3\\envs\\tf\\lib\\site-packages\\xgboost\\sklearn.py:1224: UserWarning: The use of label encoder in XGBClassifier is deprecated and will be removed in a future release. To remove this warning, do the following: 1) Pass option use_label_encoder=False when constructing XGBClassifier object; and 2) Encode your labels (y) as integers starting with 0, i.e. 0, 1, 2, ..., [num_class - 1].\n",
      "  warnings.warn(label_encoder_deprecation_msg, UserWarning)\n"
     ]
    },
    {
     "name": "stdout",
     "output_type": "stream",
     "text": [
      "[21:52:34] WARNING: ..\\src\\learner.cc:1115: Starting in XGBoost 1.3.0, the default evaluation metric used with the objective 'binary:logistic' was changed from 'error' to 'logloss'. Explicitly set eval_metric if you'd like to restore the old behavior.\n",
      "[21:52:34] WARNING: ..\\src\\learner.cc:1115: Starting in XGBoost 1.3.0, the default evaluation metric used with the objective 'binary:logistic' was changed from 'error' to 'logloss'. Explicitly set eval_metric if you'd like to restore the old behavior.\n"
     ]
    },
    {
     "name": "stderr",
     "output_type": "stream",
     "text": [
      "C:\\Users\\Hp\\anaconda3\\envs\\tf\\lib\\site-packages\\xgboost\\sklearn.py:1224: UserWarning: The use of label encoder in XGBClassifier is deprecated and will be removed in a future release. To remove this warning, do the following: 1) Pass option use_label_encoder=False when constructing XGBClassifier object; and 2) Encode your labels (y) as integers starting with 0, i.e. 0, 1, 2, ..., [num_class - 1].\n",
      "  warnings.warn(label_encoder_deprecation_msg, UserWarning)\n",
      "C:\\Users\\Hp\\anaconda3\\envs\\tf\\lib\\site-packages\\xgboost\\sklearn.py:1224: UserWarning: The use of label encoder in XGBClassifier is deprecated and will be removed in a future release. To remove this warning, do the following: 1) Pass option use_label_encoder=False when constructing XGBClassifier object; and 2) Encode your labels (y) as integers starting with 0, i.e. 0, 1, 2, ..., [num_class - 1].\n",
      "  warnings.warn(label_encoder_deprecation_msg, UserWarning)\n"
     ]
    },
    {
     "name": "stdout",
     "output_type": "stream",
     "text": [
      "[21:52:35] WARNING: ..\\src\\learner.cc:1115: Starting in XGBoost 1.3.0, the default evaluation metric used with the objective 'binary:logistic' was changed from 'error' to 'logloss'. Explicitly set eval_metric if you'd like to restore the old behavior.\n",
      "[21:52:35] WARNING: ..\\src\\learner.cc:1115: Starting in XGBoost 1.3.0, the default evaluation metric used with the objective 'binary:logistic' was changed from 'error' to 'logloss'. Explicitly set eval_metric if you'd like to restore the old behavior.\n",
      "Accuracy of xgboost classifier in K fold cross validation: 76.59 % standard deviation :4.35%\n"
     ]
    }
   ],
   "source": [
    "accuracies=cross_val_score(estimator=xgbclassifier,X=X_train1,y=y_train1,cv=10)\n",
    "print(\"Accuracy of xgboost classifier in K fold cross validation: {:.2f} %\".format(accuracies.mean()*100),\n",
    "                         \"standard deviation :{:.2f}%\".format(accuracies.std()*100))\n"
   ]
  },
  {
   "cell_type": "code",
   "execution_count": 23,
   "id": "f9970cb4",
   "metadata": {},
   "outputs": [],
   "source": [
    "import tensorflow as tf\n",
    "def getModel():\n",
    "    ann = tf.keras.models.Sequential()\n",
    "    ann.add(tf.keras.layers.Dense(8, activation='relu'))\n",
    "    ann.add(tf.keras.layers.Dense(8, activation='relu'))\n",
    "    \n",
    "    ann.add(tf.keras.layers.Dense(8, activation='relu'))\n",
    "    ann.add(tf.keras.layers.Dense(8, activation='relu'))\n",
    "    ann.add(tf.keras.layers.Dense(8, activation='relu'))\n",
    "    ann.add(tf.keras.layers.Dense(8, activation='relu'))\n",
    "    ann.add(tf.keras.layers.Dense(8, activation='relu'))\n",
    "    ann.add(tf.keras.layers.Dense(8, activation='relu'))\n",
    "    ann.add(tf.keras.layers.Dense(8, activation='relu'))\n",
    "    ann.add(tf.keras.layers.Dense(8, activation='relu'))\n",
    "    ann.add(tf.keras.layers.Dense(8, activation='relu'))\n",
    "    \n",
    "    ann.add(tf.keras.layers.Dense(1, activation='sigmoid'))\n",
    "    ann.compile(optimizer='adam' , loss = tf.losses.binary_crossentropy , metrics=['accuracy'])\n",
    "    return ann\n",
    "\n",
    "\n",
    "\n",
    "\n",
    "\n",
    "param_grid = dict(epochs=100, optimizer='adam')\n",
    "\n",
    "Kmodel = tf.keras.wrappers.scikit_learn.KerasClassifier(build_fn=getModel, verbose=1)\n"
   ]
  },
  {
   "cell_type": "code",
   "execution_count": 24,
   "id": "999a68d8",
   "metadata": {},
   "outputs": [
    {
     "name": "stdout",
     "output_type": "stream",
     "text": [
      "Epoch 1/100\n",
      "10/10 [==============================] - 2s 4ms/step - loss: 0.6916 - accuracy: 0.6327\n",
      "Epoch 2/100\n",
      "10/10 [==============================] - 0s 3ms/step - loss: 0.6874 - accuracy: 0.7551\n",
      "Epoch 3/100\n",
      "10/10 [==============================] - 0s 3ms/step - loss: 0.6798 - accuracy: 0.7687\n",
      "Epoch 4/100\n",
      "10/10 [==============================] - 0s 3ms/step - loss: 0.6692 - accuracy: 0.7687\n",
      "Epoch 5/100\n",
      "10/10 [==============================] - 0s 3ms/step - loss: 0.6559 - accuracy: 0.7721\n",
      "Epoch 6/100\n",
      "10/10 [==============================] - 0s 3ms/step - loss: 0.6420 - accuracy: 0.7687\n",
      "Epoch 7/100\n",
      "10/10 [==============================] - 0s 3ms/step - loss: 0.6264 - accuracy: 0.7653\n",
      "Epoch 8/100\n",
      "10/10 [==============================] - 0s 3ms/step - loss: 0.6083 - accuracy: 0.7721\n",
      "Epoch 9/100\n",
      "10/10 [==============================] - 0s 3ms/step - loss: 0.5906 - accuracy: 0.7789\n",
      "Epoch 10/100\n",
      "10/10 [==============================] - 0s 3ms/step - loss: 0.5671 - accuracy: 0.7823\n",
      "Epoch 11/100\n",
      "10/10 [==============================] - 0s 3ms/step - loss: 0.5432 - accuracy: 0.7789\n",
      "Epoch 12/100\n",
      "10/10 [==============================] - 0s 3ms/step - loss: 0.5128 - accuracy: 0.7891\n",
      "Epoch 13/100\n",
      "10/10 [==============================] - 0s 3ms/step - loss: 0.4907 - accuracy: 0.7891\n",
      "Epoch 14/100\n",
      "10/10 [==============================] - 0s 3ms/step - loss: 0.4763 - accuracy: 0.7993\n",
      "Epoch 15/100\n",
      "10/10 [==============================] - 0s 3ms/step - loss: 0.4709 - accuracy: 0.7857\n",
      "Epoch 16/100\n",
      "10/10 [==============================] - 0s 3ms/step - loss: 0.4623 - accuracy: 0.7891\n",
      "Epoch 17/100\n",
      "10/10 [==============================] - 0s 3ms/step - loss: 0.4585 - accuracy: 0.7959\n",
      "Epoch 18/100\n",
      "10/10 [==============================] - 0s 3ms/step - loss: 0.4538 - accuracy: 0.7993\n",
      "Epoch 19/100\n",
      "10/10 [==============================] - 0s 3ms/step - loss: 0.4502 - accuracy: 0.7993\n",
      "Epoch 20/100\n",
      "10/10 [==============================] - 0s 3ms/step - loss: 0.4452 - accuracy: 0.8027\n",
      "Epoch 21/100\n",
      "10/10 [==============================] - 0s 3ms/step - loss: 0.4426 - accuracy: 0.7993\n",
      "Epoch 22/100\n",
      "10/10 [==============================] - 0s 3ms/step - loss: 0.4421 - accuracy: 0.8027\n",
      "Epoch 23/100\n",
      "10/10 [==============================] - 0s 3ms/step - loss: 0.4371 - accuracy: 0.8027\n",
      "Epoch 24/100\n",
      "10/10 [==============================] - 0s 3ms/step - loss: 0.4346 - accuracy: 0.7993\n",
      "Epoch 25/100\n",
      "10/10 [==============================] - 0s 3ms/step - loss: 0.4327 - accuracy: 0.7993\n",
      "Epoch 26/100\n",
      "10/10 [==============================] - 0s 3ms/step - loss: 0.4309 - accuracy: 0.7925\n",
      "Epoch 27/100\n",
      "10/10 [==============================] - 0s 4ms/step - loss: 0.4303 - accuracy: 0.8027\n",
      "Epoch 28/100\n",
      "10/10 [==============================] - 0s 3ms/step - loss: 0.4293 - accuracy: 0.8027\n",
      "Epoch 29/100\n",
      "10/10 [==============================] - 0s 3ms/step - loss: 0.4297 - accuracy: 0.8061\n",
      "Epoch 30/100\n",
      "10/10 [==============================] - 0s 3ms/step - loss: 0.4297 - accuracy: 0.8027\n",
      "Epoch 31/100\n",
      "10/10 [==============================] - 0s 3ms/step - loss: 0.4300 - accuracy: 0.8027\n",
      "Epoch 32/100\n",
      "10/10 [==============================] - 0s 4ms/step - loss: 0.4357 - accuracy: 0.7925\n",
      "Epoch 33/100\n",
      "10/10 [==============================] - 0s 3ms/step - loss: 0.4232 - accuracy: 0.7993\n",
      "Epoch 34/100\n",
      "10/10 [==============================] - 0s 5ms/step - loss: 0.4228 - accuracy: 0.7959\n",
      "Epoch 35/100\n",
      "10/10 [==============================] - 0s 3ms/step - loss: 0.4221 - accuracy: 0.7993\n",
      "Epoch 36/100\n",
      "10/10 [==============================] - 0s 4ms/step - loss: 0.4203 - accuracy: 0.8061\n",
      "Epoch 37/100\n",
      "10/10 [==============================] - 0s 4ms/step - loss: 0.4295 - accuracy: 0.8027\n",
      "Epoch 38/100\n",
      "10/10 [==============================] - 0s 3ms/step - loss: 0.4274 - accuracy: 0.7891\n",
      "Epoch 39/100\n",
      "10/10 [==============================] - 0s 3ms/step - loss: 0.4265 - accuracy: 0.8197\n",
      "Epoch 40/100\n",
      "10/10 [==============================] - 0s 3ms/step - loss: 0.4197 - accuracy: 0.8095\n",
      "Epoch 41/100\n",
      "10/10 [==============================] - 0s 3ms/step - loss: 0.4188 - accuracy: 0.8027\n",
      "Epoch 42/100\n",
      "10/10 [==============================] - 0s 3ms/step - loss: 0.4161 - accuracy: 0.8061\n",
      "Epoch 43/100\n",
      "10/10 [==============================] - 0s 3ms/step - loss: 0.4183 - accuracy: 0.8095\n",
      "Epoch 44/100\n",
      "10/10 [==============================] - 0s 3ms/step - loss: 0.4224 - accuracy: 0.8163\n",
      "Epoch 45/100\n",
      "10/10 [==============================] - 0s 3ms/step - loss: 0.4195 - accuracy: 0.8129\n",
      "Epoch 46/100\n",
      "10/10 [==============================] - 0s 3ms/step - loss: 0.4205 - accuracy: 0.8129\n",
      "Epoch 47/100\n",
      "10/10 [==============================] - 0s 3ms/step - loss: 0.4176 - accuracy: 0.8061\n",
      "Epoch 48/100\n",
      "10/10 [==============================] - 0s 3ms/step - loss: 0.4135 - accuracy: 0.8129\n",
      "Epoch 49/100\n",
      "10/10 [==============================] - 0s 3ms/step - loss: 0.4200 - accuracy: 0.8197\n",
      "Epoch 50/100\n",
      "10/10 [==============================] - 0s 3ms/step - loss: 0.4118 - accuracy: 0.8163\n",
      "Epoch 51/100\n",
      "10/10 [==============================] - 0s 3ms/step - loss: 0.4139 - accuracy: 0.8095\n",
      "Epoch 52/100\n",
      "10/10 [==============================] - 0s 3ms/step - loss: 0.4113 - accuracy: 0.8095\n",
      "Epoch 53/100\n",
      "10/10 [==============================] - 0s 3ms/step - loss: 0.4113 - accuracy: 0.8129\n",
      "Epoch 54/100\n",
      "10/10 [==============================] - 0s 3ms/step - loss: 0.4125 - accuracy: 0.8095\n",
      "Epoch 55/100\n",
      "10/10 [==============================] - 0s 3ms/step - loss: 0.4120 - accuracy: 0.8129\n",
      "Epoch 56/100\n",
      "10/10 [==============================] - 0s 3ms/step - loss: 0.4117 - accuracy: 0.8163\n",
      "Epoch 57/100\n",
      "10/10 [==============================] - 0s 3ms/step - loss: 0.4102 - accuracy: 0.8163\n",
      "Epoch 58/100\n",
      "10/10 [==============================] - 0s 3ms/step - loss: 0.4124 - accuracy: 0.7993\n",
      "Epoch 59/100\n",
      "10/10 [==============================] - 0s 3ms/step - loss: 0.4118 - accuracy: 0.8129\n",
      "Epoch 60/100\n",
      "10/10 [==============================] - 0s 3ms/step - loss: 0.4077 - accuracy: 0.8197\n",
      "Epoch 61/100\n",
      "10/10 [==============================] - 0s 3ms/step - loss: 0.4092 - accuracy: 0.8129\n",
      "Epoch 62/100\n",
      "10/10 [==============================] - 0s 3ms/step - loss: 0.4079 - accuracy: 0.8129\n",
      "Epoch 63/100\n",
      "10/10 [==============================] - 0s 3ms/step - loss: 0.4102 - accuracy: 0.8163\n",
      "Epoch 64/100\n",
      "10/10 [==============================] - 0s 3ms/step - loss: 0.4067 - accuracy: 0.8197\n",
      "Epoch 65/100\n",
      "10/10 [==============================] - 0s 3ms/step - loss: 0.4066 - accuracy: 0.8163\n",
      "Epoch 66/100\n",
      "10/10 [==============================] - 0s 3ms/step - loss: 0.4101 - accuracy: 0.8027\n",
      "Epoch 67/100\n",
      "10/10 [==============================] - 0s 3ms/step - loss: 0.4071 - accuracy: 0.8129\n",
      "Epoch 68/100\n",
      "10/10 [==============================] - 0s 3ms/step - loss: 0.4053 - accuracy: 0.8129\n",
      "Epoch 69/100\n",
      "10/10 [==============================] - 0s 4ms/step - loss: 0.4044 - accuracy: 0.8163\n",
      "Epoch 70/100\n",
      "10/10 [==============================] - 0s 3ms/step - loss: 0.4040 - accuracy: 0.8129\n",
      "Epoch 71/100\n",
      "10/10 [==============================] - 0s 3ms/step - loss: 0.4040 - accuracy: 0.8095\n",
      "Epoch 72/100\n",
      "10/10 [==============================] - 0s 3ms/step - loss: 0.4049 - accuracy: 0.8163\n",
      "Epoch 73/100\n",
      "10/10 [==============================] - 0s 3ms/step - loss: 0.4038 - accuracy: 0.8095\n",
      "Epoch 74/100\n",
      "10/10 [==============================] - 0s 3ms/step - loss: 0.4145 - accuracy: 0.8197\n",
      "Epoch 75/100\n",
      "10/10 [==============================] - 0s 3ms/step - loss: 0.4159 - accuracy: 0.8095\n",
      "Epoch 76/100\n",
      "10/10 [==============================] - 0s 3ms/step - loss: 0.4084 - accuracy: 0.8163\n",
      "Epoch 77/100\n",
      "10/10 [==============================] - 0s 3ms/step - loss: 0.4063 - accuracy: 0.8129\n",
      "Epoch 78/100\n",
      "10/10 [==============================] - 0s 3ms/step - loss: 0.4036 - accuracy: 0.8163\n",
      "Epoch 79/100\n",
      "10/10 [==============================] - 0s 3ms/step - loss: 0.4023 - accuracy: 0.8163\n",
      "Epoch 80/100\n",
      "10/10 [==============================] - 0s 3ms/step - loss: 0.4033 - accuracy: 0.8129\n",
      "Epoch 81/100\n",
      "10/10 [==============================] - 0s 3ms/step - loss: 0.4014 - accuracy: 0.8163\n",
      "Epoch 82/100\n",
      "10/10 [==============================] - 0s 3ms/step - loss: 0.4087 - accuracy: 0.8163\n",
      "Epoch 83/100\n"
     ]
    },
    {
     "name": "stdout",
     "output_type": "stream",
     "text": [
      "10/10 [==============================] - 0s 3ms/step - loss: 0.3986 - accuracy: 0.8197\n",
      "Epoch 84/100\n",
      "10/10 [==============================] - 0s 3ms/step - loss: 0.4066 - accuracy: 0.8197\n",
      "Epoch 85/100\n",
      "10/10 [==============================] - 0s 3ms/step - loss: 0.3998 - accuracy: 0.8163\n",
      "Epoch 86/100\n",
      "10/10 [==============================] - 0s 3ms/step - loss: 0.4003 - accuracy: 0.8129\n",
      "Epoch 87/100\n",
      "10/10 [==============================] - 0s 3ms/step - loss: 0.3988 - accuracy: 0.8163\n",
      "Epoch 88/100\n",
      "10/10 [==============================] - 0s 3ms/step - loss: 0.3984 - accuracy: 0.8129\n",
      "Epoch 89/100\n",
      "10/10 [==============================] - 0s 3ms/step - loss: 0.3978 - accuracy: 0.8129\n",
      "Epoch 90/100\n",
      "10/10 [==============================] - 0s 3ms/step - loss: 0.3975 - accuracy: 0.8163\n",
      "Epoch 91/100\n",
      "10/10 [==============================] - 0s 3ms/step - loss: 0.3963 - accuracy: 0.8197\n",
      "Epoch 92/100\n",
      "10/10 [==============================] - 0s 3ms/step - loss: 0.3993 - accuracy: 0.8163\n",
      "Epoch 93/100\n",
      "10/10 [==============================] - 0s 3ms/step - loss: 0.3987 - accuracy: 0.8129\n",
      "Epoch 94/100\n",
      "10/10 [==============================] - 0s 3ms/step - loss: 0.4004 - accuracy: 0.8231\n",
      "Epoch 95/100\n",
      "10/10 [==============================] - 0s 3ms/step - loss: 0.3929 - accuracy: 0.8095\n",
      "Epoch 96/100\n",
      "10/10 [==============================] - 0s 3ms/step - loss: 0.4023 - accuracy: 0.8129\n",
      "Epoch 97/100\n",
      "10/10 [==============================] - 0s 3ms/step - loss: 0.3996 - accuracy: 0.8163\n",
      "Epoch 98/100\n",
      "10/10 [==============================] - 0s 3ms/step - loss: 0.3945 - accuracy: 0.8231\n",
      "Epoch 99/100\n",
      "10/10 [==============================] - 0s 3ms/step - loss: 0.3989 - accuracy: 0.8163\n",
      "Epoch 100/100\n",
      "10/10 [==============================] - 0s 3ms/step - loss: 0.3957 - accuracy: 0.8231\n",
      "[[0 0]\n",
      " [1 1]\n",
      " [0 0]\n",
      " [0 0]\n",
      " [1 1]\n",
      " [0 1]\n",
      " [1 0]\n",
      " [1 0]\n",
      " [0 1]\n",
      " [0 0]\n",
      " [0 0]\n",
      " [0 1]\n",
      " [1 0]\n",
      " [1 1]\n",
      " [0 0]\n",
      " [0 0]\n",
      " [0 0]\n",
      " [1 1]\n",
      " [1 0]\n",
      " [0 1]\n",
      " [0 0]\n",
      " [1 1]\n",
      " [0 0]\n",
      " [1 0]\n",
      " [0 0]\n",
      " [0 0]\n",
      " [0 0]\n",
      " [0 0]\n",
      " [1 0]\n",
      " [1 1]\n",
      " [0 1]\n",
      " [0 0]\n",
      " [1 1]\n",
      " [0 0]\n",
      " [0 0]\n",
      " [0 0]\n",
      " [0 0]\n",
      " [1 1]\n",
      " [1 1]\n",
      " [0 0]\n",
      " [0 1]\n",
      " [0 1]\n",
      " [0 0]\n",
      " [0 0]\n",
      " [0 0]\n",
      " [1 1]\n",
      " [1 1]\n",
      " [1 1]\n",
      " [0 1]\n",
      " [0 0]\n",
      " [0 0]\n",
      " [1 1]\n",
      " [1 1]\n",
      " [0 0]\n",
      " [0 0]\n",
      " [1 0]\n",
      " [0 0]\n",
      " [0 0]\n",
      " [0 0]\n",
      " [0 0]\n",
      " [0 0]\n",
      " [0 0]\n",
      " [1 0]\n",
      " [1 1]\n",
      " [1 0]\n",
      " [0 0]\n",
      " [0 0]\n",
      " [0 0]\n",
      " [1 1]\n",
      " [1 1]\n",
      " [0 0]\n",
      " [0 0]\n",
      " [0 0]\n",
      " [0 1]\n",
      " [1 0]\n",
      " [0 0]\n",
      " [0 0]\n",
      " [1 1]\n",
      " [0 0]\n",
      " [0 0]\n",
      " [1 1]\n",
      " [0 0]\n",
      " [0 0]\n",
      " [0 0]\n",
      " [1 1]\n",
      " [0 0]\n",
      " [1 1]\n",
      " [1 0]\n",
      " [1 1]\n",
      " [0 0]\n",
      " [1 0]\n",
      " [1 0]\n",
      " [0 1]\n",
      " [0 0]\n",
      " [0 0]\n",
      " [0 0]\n",
      " [0 0]\n",
      " [0 0]]\n"
     ]
    }
   ],
   "source": [
    "\n",
    "Kmodel.fit(X_train1,y_train1,batch_size=32,epochs=100)\n",
    "anny_pred=Kmodel.predict(X_test1)\n",
    "anny_pred=anny_pred>0.5\n",
    "\n",
    "print(np.concatenate((anny_pred.reshape(len(anny_pred),1),y_test1.to_numpy().reshape(len(y_test1),1)),axis=1))"
   ]
  },
  {
   "cell_type": "code",
   "execution_count": 25,
   "id": "30dca9c3",
   "metadata": {},
   "outputs": [
    {
     "name": "stdout",
     "output_type": "stream",
     "text": [
      "[[53 13]\n",
      " [10 22]]\n",
      "0.7653061224489796\n",
      "OUTCOME DIABETIC\n",
      "\n",
      "Mis-classification(1-accuracy) 0.23469387755102042\n",
      "sensitivity 0.6875\n",
      "Specificity(TNR): 0.803030303030303\n",
      "precision 0.6285714285714286\n",
      "f1 score 0.6567164179104478\n",
      "OUTCOME NON DIABETIC\n",
      "Mis-classification(1-accuracy) 0.23469387755102042\n",
      "sensitivity 0.803030303030303\n",
      "Specificity(TNR): 0.6875\n",
      "precision 0.8412698412698413\n",
      "f1 score 0.8217054263565892\n"
     ]
    }
   ],
   "source": [
    "cm = confusion_matrix(y_test1,anny_pred)\n",
    "print(cm)\n",
    "print(accuracy_score(y_test1,anny_pred))\n",
    "print(\"OUTCOME DIABETIC\\n\")\n",
    "print(\"Mis-classification(1-accuracy)\",(cm[0][1]+cm[1][0])/(cm[0][0]+cm[0][1]+cm[1][0]+cm[1][1]))\n",
    "Sensitivity=cm[1][1]/(cm[1][1]+cm[1][0])\n",
    "print(\"sensitivity\",Sensitivity)\n",
    "print(\"Specificity(TNR):\",cm[0][0]/(cm[0][0]+cm[0][1]))\n",
    "Precision=cm[1][1]/(cm[1][1]+cm[0][1])\n",
    "print(\"precision\",Precision)\n",
    "print(\"f1 score\",2*Precision*Sensitivity/(Precision+Sensitivity))\n",
    "\n",
    "print(\"OUTCOME NON DIABETIC\")\n",
    "print(\"Mis-classification(1-accuracy)\",(cm[0][1]+cm[1][0])/(cm[0][0]+cm[0][1]+cm[1][0]+cm[1][1]))\n",
    "Sensitivity=cm[0][0]/(cm[0][0]+cm[0][1])\n",
    "print(\"sensitivity\",Sensitivity)\n",
    "print(\"Specificity(TNR):\",cm[1][1]/(cm[1][1]+cm[1][0]))\n",
    "Precision=cm[0][0]/(cm[0][0]+cm[1][0])\n",
    "print(\"precision\",Precision)\n",
    "print(\"f1 score\",2*Precision*Sensitivity/(Precision+Sensitivity))\n"
   ]
  },
  {
   "cell_type": "code",
   "execution_count": 26,
   "id": "9fe306c2",
   "metadata": {},
   "outputs": [
    {
     "name": "stdout",
     "output_type": "stream",
     "text": [
      "9/9 [==============================] - 2s 4ms/step - loss: 0.6896 - accuracy: 0.6591\n",
      "9/9 [==============================] - 2s 3ms/step - loss: 0.6920 - accuracy: 0.6174\n",
      "9/9 [==============================] - 2s 3ms/step - loss: 0.6879 - accuracy: 0.6705\n",
      "9/9 [==============================] - 2s 3ms/step - loss: 0.6879 - accuracy: 0.6591\n",
      "WARNING:tensorflow:5 out of the last 8 calls to <function Model.make_predict_function.<locals>.predict_function at 0x0000016EF0342D30> triggered tf.function retracing. Tracing is expensive and the excessive number of tracings could be due to (1) creating @tf.function repeatedly in a loop, (2) passing tensors with different shapes, (3) passing Python objects instead of tensors. For (1), please define your @tf.function outside of the loop. For (2), @tf.function has experimental_relax_shapes=True option that relaxes argument shapes that can avoid unnecessary retracing. For (3), please refer to https://www.tensorflow.org/guide/function#controlling_retracing and https://www.tensorflow.org/api_docs/python/tf/function for  more details.\n",
      "9/9 [==============================] - 2s 3ms/step - loss: 0.6923 - accuracy: 0.5811\n",
      "WARNING:tensorflow:6 out of the last 9 calls to <function Model.make_predict_function.<locals>.predict_function at 0x0000016EED7065E0> triggered tf.function retracing. Tracing is expensive and the excessive number of tracings could be due to (1) creating @tf.function repeatedly in a loop, (2) passing tensors with different shapes, (3) passing Python objects instead of tensors. For (1), please define your @tf.function outside of the loop. For (2), @tf.function has experimental_relax_shapes=True option that relaxes argument shapes that can avoid unnecessary retracing. For (3), please refer to https://www.tensorflow.org/guide/function#controlling_retracing and https://www.tensorflow.org/api_docs/python/tf/function for  more details.\n",
      "9/9 [==============================] - 2s 3ms/step - loss: 0.6917 - accuracy: 0.6679\n",
      "9/9 [==============================] - 2s 3ms/step - loss: 0.6857 - accuracy: 0.6717\n",
      "9/9 [==============================] - 2s 3ms/step - loss: 0.6912 - accuracy: 0.6642\n",
      "9/9 [==============================] - 2s 3ms/step - loss: 0.6929 - accuracy: 0.4415\n",
      "9/9 [==============================] - 2s 3ms/step - loss: 0.6874 - accuracy: 0.6717\n",
      "Accuracy of ANN  in K fold cross validation: 66.28 % standard deviation :4.21%\n"
     ]
    }
   ],
   "source": [
    "accuracies = cross_val_score(estimator=Kmodel, X=X_train1,y=y_train1, scoring='accuracy',cv=10)\n",
    "print(\"Accuracy of ANN  in K fold cross validation: {:.2f} %\".format(accuracies.mean()*100),\n",
    "                         \"standard deviation :{:.2f}%\".format(accuracies.std()*100))"
   ]
  },
  {
   "cell_type": "code",
   "execution_count": 27,
   "id": "b7611b0e",
   "metadata": {},
   "outputs": [
    {
     "name": "stdout",
     "output_type": "stream",
     "text": [
      "[[56 10]\n",
      " [16 16]]\n",
      "0.7346938775510204\n",
      "OUTCOME DIABETIC\n",
      "\n",
      "Mis-classification(1-accuracy) 0.2653061224489796\n",
      "sensitivity 0.5\n",
      "Specificity(TNR): 0.8484848484848485\n",
      "precision 0.6153846153846154\n",
      "f1 score 0.5517241379310345\n",
      "OUTCOME NON DIABETIC\n",
      "Mis-classification(1-accuracy) 0.2653061224489796\n",
      "sensitivity 0.8484848484848485\n",
      "Specificity(TNR): 0.5\n",
      "precision 0.7777777777777778\n",
      "f1 score 0.8115942028985507\n"
     ]
    }
   ],
   "source": [
    "from sklearn.neural_network import MLPClassifier\n",
    "mlp=MLPClassifier(max_iter=1000,alpha=1)\n",
    "mlp.fit(X_train1,y_train1)\n",
    "mlpy_pred=mlp.predict(X_test1)\n",
    "cm=confusion_matrix(y_test1,mlpy_pred)\n",
    "print(cm)\n",
    "acc=accuracy_score(y_test1,mlpy_pred)\n",
    "print(acc)\n",
    "print(\"OUTCOME DIABETIC\\n\")\n",
    "print(\"Mis-classification(1-accuracy)\",(cm[0][1]+cm[1][0])/(cm[0][0]+cm[0][1]+cm[1][0]+cm[1][1]))\n",
    "Sensitivity=cm[1][1]/(cm[1][1]+cm[1][0])\n",
    "print(\"sensitivity\",Sensitivity)\n",
    "print(\"Specificity(TNR):\",cm[0][0]/(cm[0][0]+cm[0][1]))\n",
    "Precision=cm[1][1]/(cm[1][1]+cm[0][1])\n",
    "print(\"precision\",Precision)\n",
    "print(\"f1 score\",2*Precision*Sensitivity/(Precision+Sensitivity))\n",
    "\n",
    "print(\"OUTCOME NON DIABETIC\")\n",
    "print(\"Mis-classification(1-accuracy)\",(cm[0][1]+cm[1][0])/(cm[0][0]+cm[0][1]+cm[1][0]+cm[1][1]))\n",
    "Sensitivity=cm[0][0]/(cm[0][0]+cm[0][1])\n",
    "print(\"sensitivity\",Sensitivity)\n",
    "print(\"Specificity(TNR):\",cm[1][1]/(cm[1][1]+cm[1][0]))\n",
    "Precision=cm[0][0]/(cm[0][0]+cm[1][0])\n",
    "print(\"precision\",Precision)\n",
    "print(\"f1 score\",2*Precision*Sensitivity/(Precision+Sensitivity))"
   ]
  },
  {
   "cell_type": "code",
   "execution_count": 28,
   "id": "311b938b",
   "metadata": {},
   "outputs": [
    {
     "name": "stdout",
     "output_type": "stream",
     "text": [
      "Accuracy of MLP in K fold cross validation 79.689655\n",
      "Standard deviation of MLP in K fold cross validation8.061733\n"
     ]
    }
   ],
   "source": [
    "accuracies=cross_val_score(estimator=mlp,X=X_train1,y=y_train1,cv=10)\n",
    "print(\"Accuracy of MLP in K fold cross validation {:2f}\".format(accuracies.mean()*100))\n",
    "print(\"Standard deviation of MLP in K fold cross validation{:2f}\".format(accuracies.std()*100))"
   ]
  },
  {
   "cell_type": "code",
   "execution_count": 29,
   "id": "4a1dc28e",
   "metadata": {},
   "outputs": [
    {
     "name": "stdout",
     "output_type": "stream",
     "text": [
      "0.6742424242424242\n",
      "0.6742424242424242\n",
      "0.6893939393939393\n",
      "0.7130681818181818\n",
      "0.659090909090909\n",
      "0.7130681818181818\n",
      "0.7452651515151515\n",
      "0.6742424242424242\n",
      "0.6818181818181818\n"
     ]
    },
    {
     "data": {
      "image/png": "[encoded data removed]",
      "text/plain": [
       "<Figure size 432x288 with 1 Axes>"
      ]
     },
     "metadata": {
      "needs_background": "light"
     },
     "output_type": "display_data"
    }
   ],
   "source": [
    "lrfpr,lrtpr,threshold=roc_curve(y_test1,lry_pred)\n",
    "lsvmfpr,lsvmtpr,threshold1=roc_curve(y_test1,lsvmy_pred)\n",
    "rbfsvmfpr,rbfsvmtpr,threshold2=roc_curve(y_test1,rbfsvmy_pred)\n",
    "knnfpr,knntpr,threshold3=roc_curve(y_test1,knny_pred)\n",
    "dtfpr,dttpr,threshold4=roc_curve(y_test1,dty_pred)\n",
    "rffpr,rftpr,threshold5=roc_curve(y_test1,rfy_pred)\n",
    "annfpr,anntpr,threshold6=roc_curve(y_test1,anny_pred)\n",
    "mlpfpr,mlptpr,threshold7=roc_curve(y_test1,mlpy_pred)\n",
    "xgbfpr,xgbtpr,threshold8=roc_curve(y_test1,xgby_pred)\n",
    "\n",
    "\n",
    "print(roc_auc_score(y_test1,lry_pred))\n",
    "print(roc_auc_score(y_test1,lsvmy_pred))\n",
    "print(roc_auc_score(y_test1,rbfsvmy_pred))\n",
    "print(roc_auc_score(y_test1,knny_pred))\n",
    "print(roc_auc_score(y_test1,dty_pred))\n",
    "print(roc_auc_score(y_test1,rfy_pred))\n",
    "print(roc_auc_score(y_test1,anny_pred))\n",
    "print(roc_auc_score(y_test1,mlpy_pred))\n",
    "print(roc_auc_score(y_test1,xgby_pred))\n",
    "\n",
    "\n",
    "plt.figure()\n",
    "plt.plot(lrfpr,lrtpr,label=\"Logistic regression\")\n",
    "plt.plot(lsvmfpr,lsvmtpr,label='roc linear kernel SVM')\n",
    "plt.plot(rbfsvmfpr,rbfsvmtpr,label='roc rbf kernel SVM')\n",
    "plt.plot(knnfpr,knntpr,label='roc KNN',color=\"red\")\n",
    "plt.plot(dtfpr,dttpr,label='roc Decision Tree')\n",
    "plt.plot(rffpr,rftpr,label='roc random forest')\n",
    "plt.plot(annfpr,anntpr,label='roc ANN')\n",
    "plt.plot(mlpfpr,mlptpr,label='roc MLP')\n",
    "plt.plot(xgbfpr,xgbtpr,label='roc XGBoost')\n",
    "plt.plot([0,1],[0,1],'y--')\n",
    "plt.xlim(0,1)\n",
    "plt.ylim(0,1)\n",
    "plt.legend()\n",
    "plt.show()"
   ]
  },
  {
   "cell_type": "code",
   "execution_count": null,
   "id": "1521d96c",
   "metadata": {},
   "outputs": [],
   "source": []
  }
 ],
 "metadata": {
  "kernelspec": {
   "display_name": "Python 3 (ipykernel)",
   "language": "python",
   "name": "python3"
  },
  "language_info": {
   "codemirror_mode": {
    "name": "ipython",
    "version": 3
   },
   "file_extension": ".py",
   "mimetype": "text/x-python",
   "name": "python",
   "nbconvert_exporter": "python",
   "pygments_lexer": "ipython3",
   "version": "3.9.7"
  }
 },
 "nbformat": 4,
 "nbformat_minor": 5
}
